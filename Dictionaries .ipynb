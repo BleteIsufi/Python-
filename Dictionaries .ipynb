{
 "cells": [
  {
   "cell_type": "code",
   "execution_count": 2,
   "id": "621f2eff",
   "metadata": {},
   "outputs": [
    {
     "name": "stdout",
     "output_type": "stream",
     "text": [
      "{'celsi1': 'vlera1', 'celesi2': 2, 'celesi3': [3, 4, 5], 'celesi4': ('python', 3)}\n"
     ]
    }
   ],
   "source": [
    "Dictionary = {\"celsi1\":\"vlera1\", \"celesi2\":2,\"celesi3\":[3,4,5],\"celesi4\":(\"python\",3)}\n",
    "print(Dictionary)"
   ]
  },
  {
   "cell_type": "code",
   "execution_count": 4,
   "id": "a3f259d1",
   "metadata": {},
   "outputs": [],
   "source": [
    "Dict = {\"Toksikologjia\": 2023,\"Bromatologjia\":2022}"
   ]
  },
  {
   "cell_type": "code",
   "execution_count": 6,
   "id": "746de179",
   "metadata": {},
   "outputs": [
    {
     "data": {
      "text/plain": [
       "2023"
      ]
     },
     "execution_count": 6,
     "metadata": {},
     "output_type": "execute_result"
    }
   ],
   "source": [
    "Dict[\"Toksikologjia\"]"
   ]
  },
  {
   "cell_type": "code",
   "execution_count": 8,
   "id": "bf5b6d69",
   "metadata": {},
   "outputs": [
    {
     "data": {
      "text/plain": [
       "[3, 4, 5]"
      ]
     },
     "execution_count": 8,
     "metadata": {},
     "output_type": "execute_result"
    }
   ],
   "source": [
    "Dictionary[\"celesi3\"]"
   ]
  },
  {
   "cell_type": "code",
   "execution_count": 10,
   "id": "06a0ff19",
   "metadata": {},
   "outputs": [
    {
     "data": {
      "text/plain": [
       "dict_keys(['Toksikologjia', 'Bromatologjia'])"
      ]
     },
     "execution_count": 10,
     "metadata": {},
     "output_type": "execute_result"
    }
   ],
   "source": [
    "Dict.keys()"
   ]
  },
  {
   "cell_type": "code",
   "execution_count": 12,
   "id": "b35790dc",
   "metadata": {},
   "outputs": [
    {
     "data": {
      "text/plain": [
       "dict_values([2023, 2022])"
      ]
     },
     "execution_count": 12,
     "metadata": {},
     "output_type": "execute_result"
    }
   ],
   "source": [
    "Dict.values()"
   ]
  },
  {
   "cell_type": "code",
   "execution_count": 14,
   "id": "52d10777",
   "metadata": {},
   "outputs": [
    {
     "data": {
      "text/plain": [
       "dict_keys(['celsi1', 'celesi2', 'celesi3', 'celesi4'])"
      ]
     },
     "execution_count": 14,
     "metadata": {},
     "output_type": "execute_result"
    }
   ],
   "source": [
    "Dictionary.keys()"
   ]
  },
  {
   "cell_type": "code",
   "execution_count": 16,
   "id": "4266bd50",
   "metadata": {},
   "outputs": [
    {
     "data": {
      "text/plain": [
       "dict_values(['vlera1', 2, [3, 4, 5], ('python', 3)])"
      ]
     },
     "execution_count": 16,
     "metadata": {},
     "output_type": "execute_result"
    }
   ],
   "source": [
    "Dictionary.values()"
   ]
  },
  {
   "cell_type": "code",
   "execution_count": 19,
   "id": "6d4446f3",
   "metadata": {},
   "outputs": [],
   "source": [
    "Dict[\"Kimi Farmaceutike\"]=2023"
   ]
  },
  {
   "cell_type": "code",
   "execution_count": 21,
   "id": "a554535f",
   "metadata": {},
   "outputs": [
    {
     "data": {
      "text/plain": [
       "dict_keys(['Toksikologjia', 'Bromatologjia', 'Kimi Farmaceutike'])"
      ]
     },
     "execution_count": 21,
     "metadata": {},
     "output_type": "execute_result"
    }
   ],
   "source": [
    "Dict.keys()"
   ]
  },
  {
   "cell_type": "code",
   "execution_count": 25,
   "id": "62c73330",
   "metadata": {},
   "outputs": [
    {
     "data": {
      "text/plain": [
       "{'Kimi Farmaceutike': 2023}"
      ]
     },
     "execution_count": 25,
     "metadata": {},
     "output_type": "execute_result"
    }
   ],
   "source": [
    "del(Dict[\"Toksikologjia\"])\n",
    "Dict"
   ]
  },
  {
   "cell_type": "code",
   "execution_count": 27,
   "id": "998db3fe",
   "metadata": {},
   "outputs": [
    {
     "data": {
      "text/plain": [
       "False"
      ]
     },
     "execution_count": 27,
     "metadata": {},
     "output_type": "execute_result"
    }
   ],
   "source": [
    "\"Bromatologjia\"in Dict"
   ]
  },
  {
   "cell_type": "code",
   "execution_count": null,
   "id": "1ad3fe8a",
   "metadata": {},
   "outputs": [],
   "source": []
  }
 ],
 "metadata": {
  "kernelspec": {
   "display_name": "Python 3 (ipykernel)",
   "language": "python",
   "name": "python3"
  },
  "language_info": {
   "codemirror_mode": {
    "name": "ipython",
    "version": 3
   },
   "file_extension": ".py",
   "mimetype": "text/x-python",
   "name": "python",
   "nbconvert_exporter": "python",
   "pygments_lexer": "ipython3",
   "version": "3.9.13"
  }
 },
 "nbformat": 4,
 "nbformat_minor": 5
}
