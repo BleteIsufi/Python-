{
 "cells": [
  {
   "cell_type": "code",
   "execution_count": 2,
   "id": "08269315",
   "metadata": {},
   "outputs": [],
   "source": [
    "set1={\"Sam Smith\",\"Tash Sultana\",\"Mriah Carey\",\"Sam Smith\", \"Drake\",\"Rihanna\",\"Rihanna\"} #Sets have unique elements, they dont give the same element twice"
   ]
  },
  {
   "cell_type": "code",
   "execution_count": 4,
   "id": "271aeaad",
   "metadata": {},
   "outputs": [
    {
     "data": {
      "text/plain": [
       "{'Drake', 'Mriah Carey', 'Rihanna', 'Sam Smith', 'Tash Sultana'}"
      ]
     },
     "execution_count": 4,
     "metadata": {},
     "output_type": "execute_result"
    }
   ],
   "source": [
    "set1"
   ]
  },
  {
   "cell_type": "code",
   "execution_count": 37,
   "id": "da459407",
   "metadata": {},
   "outputs": [
    {
     "data": {
      "text/plain": [
       "{10,\n",
       " 30,\n",
       " 45,\n",
       " 'Alban Skenderaj',\n",
       " 'Alkesander Gjoka',\n",
       " 'Nexhmie Pagarusha',\n",
       " 'Sam Smith'}"
      ]
     },
     "execution_count": 37,
     "metadata": {},
     "output_type": "execute_result"
    }
   ],
   "source": [
    "lista1=[\"Alban Skenderaj\",\"Alkesander Gjoka\",\"Nexhmie Pagarusha\",\"Alban Skenderaj\",10,30,45,10,45,\"Sam Smith\"]\n",
    "lista1_set=set(lista1)\n",
    "lista1_set"
   ]
  },
  {
   "cell_type": "code",
   "execution_count": 16,
   "id": "3ac2a527",
   "metadata": {},
   "outputs": [],
   "source": [
    "lista1_set.add(\"Dafina Zeqiri\")"
   ]
  },
  {
   "cell_type": "code",
   "execution_count": 18,
   "id": "637ca76c",
   "metadata": {},
   "outputs": [
    {
     "data": {
      "text/plain": [
       "{10,\n",
       " 30,\n",
       " 45,\n",
       " 'Alban Skenderaj',\n",
       " 'Alkesander Gjoka',\n",
       " 'Dafina Zeqiri',\n",
       " 'Nexhmie Pagarusha'}"
      ]
     },
     "execution_count": 18,
     "metadata": {},
     "output_type": "execute_result"
    }
   ],
   "source": [
    "lista1_set"
   ]
  },
  {
   "cell_type": "code",
   "execution_count": 25,
   "id": "a2fac072",
   "metadata": {},
   "outputs": [],
   "source": [
    "lista1_set.add(\"Dafina Zeqiri\")"
   ]
  },
  {
   "cell_type": "code",
   "execution_count": 27,
   "id": "3f18a83e",
   "metadata": {},
   "outputs": [
    {
     "data": {
      "text/plain": [
       "{10,\n",
       " 30,\n",
       " 45,\n",
       " 'Alban Skenderaj',\n",
       " 'Alkesander Gjoka',\n",
       " 'Dafina Zeqiri',\n",
       " 'Nexhmie Pagarusha'}"
      ]
     },
     "execution_count": 27,
     "metadata": {},
     "output_type": "execute_result"
    }
   ],
   "source": [
    "lista1_set"
   ]
  },
  {
   "cell_type": "code",
   "execution_count": 29,
   "id": "145d1310",
   "metadata": {},
   "outputs": [
    {
     "ename": "KeyError",
     "evalue": "'Dafina Zeqiri'",
     "output_type": "error",
     "traceback": [
      "\u001b[0;31m---------------------------------------------------------------------------\u001b[0m",
      "\u001b[0;31mKeyError\u001b[0m                                  Traceback (most recent call last)",
      "\u001b[0;32m/var/folders/48/y2zfvlb56s15lyqgwpwykgb40000gp/T/ipykernel_7843/312197334.py\u001b[0m in \u001b[0;36m<module>\u001b[0;34m\u001b[0m\n\u001b[0;32m----> 1\u001b[0;31m \u001b[0mlista1_set\u001b[0m\u001b[0;34m.\u001b[0m\u001b[0mremove\u001b[0m\u001b[0;34m(\u001b[0m\u001b[0;34m\"Dafina Zeqiri\"\u001b[0m\u001b[0;34m)\u001b[0m\u001b[0;34m\u001b[0m\u001b[0;34m\u001b[0m\u001b[0m\n\u001b[0m",
      "\u001b[0;31mKeyError\u001b[0m: 'Dafina Zeqiri'"
     ]
    }
   ],
   "source": [
    "lista1_set.remove(\"Dafina Zeqiri\")"
   ]
  },
  {
   "cell_type": "code",
   "execution_count": 31,
   "id": "13e95bab",
   "metadata": {},
   "outputs": [
    {
     "data": {
      "text/plain": [
       "{10, 30, 45, 'Alban Skenderaj', 'Alkesander Gjoka', 'Nexhmie Pagarusha'}"
      ]
     },
     "execution_count": 31,
     "metadata": {},
     "output_type": "execute_result"
    }
   ],
   "source": [
    "lista1_set"
   ]
  },
  {
   "cell_type": "code",
   "execution_count": 33,
   "id": "0146302e",
   "metadata": {},
   "outputs": [
    {
     "data": {
      "text/plain": [
       "True"
      ]
     },
     "execution_count": 33,
     "metadata": {},
     "output_type": "execute_result"
    }
   ],
   "source": [
    "\"Alban Skenderaj\"in lista1_set"
   ]
  },
  {
   "cell_type": "code",
   "execution_count": 38,
   "id": "89b11a1d",
   "metadata": {},
   "outputs": [],
   "source": [
    "kombinimi= lista1_set & set1"
   ]
  },
  {
   "cell_type": "code",
   "execution_count": 40,
   "id": "7bd91d57",
   "metadata": {},
   "outputs": [
    {
     "data": {
      "text/plain": [
       "{'Sam Smith'}"
      ]
     },
     "execution_count": 40,
     "metadata": {},
     "output_type": "execute_result"
    }
   ],
   "source": [
    "kombinimi #Elementi i perbashket "
   ]
  },
  {
   "cell_type": "code",
   "execution_count": 42,
   "id": "d29c59c3",
   "metadata": {},
   "outputs": [
    {
     "data": {
      "text/plain": [
       "{10, 30, 45, 'Alban Skenderaj', 'Alkesander Gjoka', 'Nexhmie Pagarusha'}"
      ]
     },
     "execution_count": 42,
     "metadata": {},
     "output_type": "execute_result"
    }
   ],
   "source": [
    "lista1_set.difference(set1)#Krejt elementet e ndryshme nga set 1"
   ]
  },
  {
   "cell_type": "code",
   "execution_count": 44,
   "id": "cd21a1ec",
   "metadata": {},
   "outputs": [
    {
     "data": {
      "text/plain": [
       "{10,\n",
       " 30,\n",
       " 45,\n",
       " 'Alban Skenderaj',\n",
       " 'Alkesander Gjoka',\n",
       " 'Drake',\n",
       " 'Mriah Carey',\n",
       " 'Nexhmie Pagarusha',\n",
       " 'Rihanna',\n",
       " 'Sam Smith',\n",
       " 'Tash Sultana'}"
      ]
     },
     "execution_count": 44,
     "metadata": {},
     "output_type": "execute_result"
    }
   ],
   "source": [
    "lista1_set.union(set1)#I bashkon krejt"
   ]
  },
  {
   "cell_type": "code",
   "execution_count": 48,
   "id": "18bb6577",
   "metadata": {},
   "outputs": [],
   "source": [
    "set2={\"Alban Skenderaj\", \"Nexhmie Pagarusha\"}"
   ]
  },
  {
   "cell_type": "code",
   "execution_count": 50,
   "id": "99235220",
   "metadata": {},
   "outputs": [
    {
     "data": {
      "text/plain": [
       "False"
      ]
     },
     "execution_count": 50,
     "metadata": {},
     "output_type": "execute_result"
    }
   ],
   "source": [
    "set(set2).issubset(set1)"
   ]
  },
  {
   "cell_type": "code",
   "execution_count": 52,
   "id": "d4909fa4",
   "metadata": {},
   "outputs": [
    {
     "data": {
      "text/plain": [
       "True"
      ]
     },
     "execution_count": 52,
     "metadata": {},
     "output_type": "execute_result"
    }
   ],
   "source": [
    "set(set2).issubset(lista1_set)"
   ]
  },
  {
   "cell_type": "code",
   "execution_count": 54,
   "id": "b77e7466",
   "metadata": {},
   "outputs": [],
   "source": [
    "lista={\"true\",\"false\",\"inbetween\"}"
   ]
  },
  {
   "cell_type": "code",
   "execution_count": 57,
   "id": "25fb51cb",
   "metadata": {},
   "outputs": [],
   "source": [
    "newset=set(lista)"
   ]
  },
  {
   "cell_type": "code",
   "execution_count": 61,
   "id": "f5e60753",
   "metadata": {},
   "outputs": [
    {
     "data": {
      "text/plain": [
       "set"
      ]
     },
     "execution_count": 61,
     "metadata": {},
     "output_type": "execute_result"
    }
   ],
   "source": [
    "type(newset)"
   ]
  },
  {
   "cell_type": "code",
   "execution_count": 63,
   "id": "a28b2672",
   "metadata": {},
   "outputs": [],
   "source": [
    "A=[1,2,2,3]"
   ]
  },
  {
   "cell_type": "code",
   "execution_count": 65,
   "id": "01fc4ac9",
   "metadata": {},
   "outputs": [],
   "source": [
    "B=set([1,2,2,3])"
   ]
  },
  {
   "cell_type": "code",
   "execution_count": 67,
   "id": "b104f0c9",
   "metadata": {},
   "outputs": [
    {
     "name": "stdout",
     "output_type": "stream",
     "text": [
      "8\n",
      "6\n"
     ]
    }
   ],
   "source": [
    "print(sum(A))\n",
    "print(sum(B))#sepse elementet e perseritura nuk numrohen"
   ]
  },
  {
   "cell_type": "code",
   "execution_count": null,
   "id": "20a8d7c2",
   "metadata": {},
   "outputs": [],
   "source": []
  }
 ],
 "metadata": {
  "kernelspec": {
   "display_name": "Python 3 (ipykernel)",
   "language": "python",
   "name": "python3"
  },
  "language_info": {
   "codemirror_mode": {
    "name": "ipython",
    "version": 3
   },
   "file_extension": ".py",
   "mimetype": "text/x-python",
   "name": "python",
   "nbconvert_exporter": "python",
   "pygments_lexer": "ipython3",
   "version": "3.9.13"
  }
 },
 "nbformat": 4,
 "nbformat_minor": 5
}
