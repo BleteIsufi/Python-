{
 "cells": [
  {
   "cell_type": "code",
   "execution_count": 1,
   "id": "c99ec6b9",
   "metadata": {},
   "outputs": [
    {
     "name": "stdout",
     "output_type": "stream",
     "text": [
      "Simone de Beauvoir\n"
     ]
    }
   ],
   "source": [
    "name = \"Simone de Beauvoir\"\n",
    "print(name)"
   ]
  },
  {
   "cell_type": "code",
   "execution_count": 2,
   "id": "be33aa12",
   "metadata": {},
   "outputs": [
    {
     "name": "stdout",
     "output_type": "stream",
     "text": [
      "o\n"
     ]
    }
   ],
   "source": [
    "print(name[3])"
   ]
  },
  {
   "cell_type": "code",
   "execution_count": 3,
   "id": "ee9fb641",
   "metadata": {},
   "outputs": [
    {
     "name": "stdout",
     "output_type": "stream",
     "text": [
      "mone \n"
     ]
    }
   ],
   "source": [
    "print(name[2:7])"
   ]
  },
  {
   "cell_type": "code",
   "execution_count": 5,
   "id": "4956b6e7",
   "metadata": {},
   "outputs": [
    {
     "name": "stdout",
     "output_type": "stream",
     "text": [
      "Simone de Beauvoir\n"
     ]
    }
   ],
   "source": [
    "print(name)"
   ]
  },
  {
   "cell_type": "code",
   "execution_count": 7,
   "id": "1f072375",
   "metadata": {},
   "outputs": [],
   "source": [
    "name = name + \"was a feminist\""
   ]
  },
  {
   "cell_type": "code",
   "execution_count": 9,
   "id": "5348cc8f",
   "metadata": {},
   "outputs": [
    {
     "name": "stdout",
     "output_type": "stream",
     "text": [
      "Simone de Beauvoirwas a feministwas a feminist\n"
     ]
    }
   ],
   "source": [
    "print(name)"
   ]
  },
  {
   "cell_type": "code",
   "execution_count": 12,
   "id": "aa79196f",
   "metadata": {},
   "outputs": [
    {
     "name": "stdout",
     "output_type": "stream",
     "text": [
      "Keto karaktere do te kthehen te gjitha ne shkronja te medha\n"
     ]
    }
   ],
   "source": [
    "new_line = \"Keto karaktere do te kthehen te gjitha ne shkronja te medha\"\n",
    "print(new_line)"
   ]
  },
  {
   "cell_type": "code",
   "execution_count": 14,
   "id": "1c302665",
   "metadata": {},
   "outputs": [
    {
     "name": "stdout",
     "output_type": "stream",
     "text": [
      "KETO KARAKTERE DO TE KTHEHEN TE GJITHA NE SHKRONJA TE MEDHA\n"
     ]
    }
   ],
   "source": [
    "new_line_upper = new_line.upper()\n",
    "print(new_line_upper)"
   ]
  },
  {
   "cell_type": "code",
   "execution_count": 16,
   "id": "ff466237",
   "metadata": {},
   "outputs": [],
   "source": [
    "new_line_replaced = new_line.replace(\"karaktere\", \"shkronja\")"
   ]
  },
  {
   "cell_type": "code",
   "execution_count": 19,
   "id": "7e794486",
   "metadata": {},
   "outputs": [
    {
     "name": "stdout",
     "output_type": "stream",
     "text": [
      "Keto shkronja do te kthehen te gjitha ne shkronja te medha\n"
     ]
    }
   ],
   "source": [
    "print(new_line_replaced)"
   ]
  },
  {
   "cell_type": "code",
   "execution_count": 20,
   "id": "456c293d",
   "metadata": {},
   "outputs": [
    {
     "data": {
      "text/plain": [
       "21"
      ]
     },
     "execution_count": 20,
     "metadata": {},
     "output_type": "execute_result"
    }
   ],
   "source": [
    "new_line.find(\"kthe\")"
   ]
  }
 ],
 "metadata": {
  "kernelspec": {
   "display_name": "Python 3 (ipykernel)",
   "language": "python",
   "name": "python3"
  },
  "language_info": {
   "codemirror_mode": {
    "name": "ipython",
    "version": 3
   },
   "file_extension": ".py",
   "mimetype": "text/x-python",
   "name": "python",
   "nbconvert_exporter": "python",
   "pygments_lexer": "ipython3",
   "version": "3.9.13"
  }
 },
 "nbformat": 4,
 "nbformat_minor": 5
}
