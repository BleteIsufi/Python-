{
 "cells": [
  {
   "cell_type": "code",
   "execution_count": 2,
   "id": "bbf99451",
   "metadata": {},
   "outputs": [
    {
     "name": "stdout",
     "output_type": "stream",
     "text": [
      "('Kosova', 3, 4.4, 15)\n"
     ]
    }
   ],
   "source": [
    "tuple1 = (\"Kosova\",3,4.4,15)\n",
    "print(tuple1)"
   ]
  },
  {
   "cell_type": "code",
   "execution_count": 4,
   "id": "23606a29",
   "metadata": {},
   "outputs": [
    {
     "name": "stdout",
     "output_type": "stream",
     "text": [
      "Kosova\n"
     ]
    }
   ],
   "source": [
    "print(tuple1[0])"
   ]
  },
  {
   "cell_type": "code",
   "execution_count": 7,
   "id": "5a928d3e",
   "metadata": {},
   "outputs": [
    {
     "name": "stdout",
     "output_type": "stream",
     "text": [
      "15\n"
     ]
    }
   ],
   "source": [
    "print(tuple1[3])"
   ]
  },
  {
   "cell_type": "code",
   "execution_count": 9,
   "id": "3f2fec9c",
   "metadata": {},
   "outputs": [
    {
     "name": "stdout",
     "output_type": "stream",
     "text": [
      "('Kosova', 3, 4.4, 15, 'Shqiperia', 4567)\n"
     ]
    }
   ],
   "source": [
    "tuple2 = tuple1 + (\"Shqiperia\", 4567)\n",
    "print(tuple2)"
   ]
  },
  {
   "cell_type": "code",
   "execution_count": 11,
   "id": "57fbb834",
   "metadata": {},
   "outputs": [
    {
     "name": "stdout",
     "output_type": "stream",
     "text": [
      "(4.4, 15, 'Shqiperia')\n"
     ]
    }
   ],
   "source": [
    "print(tuple2[2:5])"
   ]
  },
  {
   "cell_type": "code",
   "execution_count": 13,
   "id": "796ab24f",
   "metadata": {},
   "outputs": [
    {
     "data": {
      "text/plain": [
       "6"
      ]
     },
     "execution_count": 13,
     "metadata": {},
     "output_type": "execute_result"
    }
   ],
   "source": [
    "len(tuple2)"
   ]
  },
  {
   "cell_type": "code",
   "execution_count": 18,
   "id": "5b00affc",
   "metadata": {},
   "outputs": [
    {
     "name": "stdout",
     "output_type": "stream",
     "text": [
      "[2, 2.7, 3.9, 4, 5, 6.6, 15.3]\n"
     ]
    }
   ],
   "source": [
    "numrat = (2,15.3,2.7,4,5,6.6,3.9)\n",
    "numratTeRenditur = sorted(numrat)\n",
    "print(numratTeRenditur)"
   ]
  },
  {
   "cell_type": "code",
   "execution_count": 20,
   "id": "c044d985",
   "metadata": {},
   "outputs": [
    {
     "name": "stdout",
     "output_type": "stream",
     "text": [
      "(3, 'Kosova', 5.5, ('Shqiperia', 1912, ('pavaresia', 7)))\n"
     ]
    }
   ],
   "source": [
    "NestedTuple = (3,\"Kosova\",5.5,(\"Shqiperia\",1912,(\"pavaresia\",7)))\n",
    "print(NestedTuple)"
   ]
  },
  {
   "cell_type": "code",
   "execution_count": 21,
   "id": "9788eb55",
   "metadata": {},
   "outputs": [
    {
     "name": "stdout",
     "output_type": "stream",
     "text": [
      "Elementi i pare i NestedTuble eshte: 3\n"
     ]
    }
   ],
   "source": [
    "print(\"Elementi i pare i NestedTuble eshte:\", NestedTuple[0])"
   ]
  },
  {
   "cell_type": "code",
   "execution_count": 23,
   "id": "11c5f128",
   "metadata": {},
   "outputs": [
    {
     "name": "stdout",
     "output_type": "stream",
     "text": [
      "pavaresia\n"
     ]
    }
   ],
   "source": [
    "print(NestedTuple[3][2][0])"
   ]
  },
  {
   "cell_type": "code",
   "execution_count": 27,
   "id": "79292977",
   "metadata": {},
   "outputs": [
    {
     "data": {
      "text/plain": [
       "1"
      ]
     },
     "execution_count": 27,
     "metadata": {},
     "output_type": "execute_result"
    }
   ],
   "source": [
    "NestedTuple.index(\"Kosova\")"
   ]
  },
  {
   "cell_type": "code",
   "execution_count": null,
   "id": "e9cdc557",
   "metadata": {},
   "outputs": [],
   "source": []
  }
 ],
 "metadata": {
  "kernelspec": {
   "display_name": "Python 3 (ipykernel)",
   "language": "python",
   "name": "python3"
  },
  "language_info": {
   "codemirror_mode": {
    "name": "ipython",
    "version": 3
   },
   "file_extension": ".py",
   "mimetype": "text/x-python",
   "name": "python",
   "nbconvert_exporter": "python",
   "pygments_lexer": "ipython3",
   "version": "3.9.13"
  }
 },
 "nbformat": 4,
 "nbformat_minor": 5
}
