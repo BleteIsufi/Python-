{
 "cells": [
  {
   "cell_type": "code",
   "execution_count": 25,
   "id": "764e29c4",
   "metadata": {},
   "outputs": [
    {
     "name": "stdout",
     "output_type": "stream",
     "text": [
      "[3, 5, 'Grapes', 8.9]\n"
     ]
    }
   ],
   "source": [
    "Lista = [3,5,\"Grapes\", 8.9]\n",
    "print(Lista)"
   ]
  },
  {
   "cell_type": "code",
   "execution_count": 26,
   "id": "e6952ff4",
   "metadata": {},
   "outputs": [
    {
     "name": "stdout",
     "output_type": "stream",
     "text": [
      "The same element using negative and positive indexing:\n",
      " Positive: 3 \n",
      " Negative: 3\n"
     ]
    }
   ],
   "source": [
    "print(\"The same element using negative and positive indexing:\\n Positive:\", Lista[0],\n",
    "      \"\\n Negative:\",Lista[-4])"
   ]
  },
  {
   "cell_type": "code",
   "execution_count": 27,
   "id": "c45cb9ad",
   "metadata": {},
   "outputs": [],
   "source": [
    "Lista2 = Lista + [\"Pear\",(\"Pictures\",5.2),[8,9]]"
   ]
  },
  {
   "cell_type": "code",
   "execution_count": 28,
   "id": "41b48669",
   "metadata": {},
   "outputs": [
    {
     "name": "stdout",
     "output_type": "stream",
     "text": [
      "[3, 5, 'Grapes', 8.9, 'Pear', ('Pictures', 5.2), [8, 9]]\n"
     ]
    }
   ],
   "source": [
    "print(Lista2)"
   ]
  },
  {
   "cell_type": "code",
   "execution_count": 29,
   "id": "0ba7063d",
   "metadata": {},
   "outputs": [
    {
     "data": {
      "text/plain": [
       "['Grapes', 8.9, 'Pear']"
      ]
     },
     "execution_count": 29,
     "metadata": {},
     "output_type": "execute_result"
    }
   ],
   "source": [
    "Lista2[2:5] #slicing"
   ]
  },
  {
   "cell_type": "code",
   "execution_count": 30,
   "id": "4c6d2dd4",
   "metadata": {},
   "outputs": [
    {
     "name": "stdout",
     "output_type": "stream",
     "text": [
      "[3, 5, 'Grapes', 8.9, 'Pear', ('Pictures', 5.2), [8, 9], 'new element', 2.2]\n"
     ]
    }
   ],
   "source": [
    "Lista2.extend([\"new element\",2.2])\n",
    "print(Lista2)"
   ]
  },
  {
   "cell_type": "code",
   "execution_count": 33,
   "id": "546ecfa0",
   "metadata": {},
   "outputs": [
    {
     "name": "stdout",
     "output_type": "stream",
     "text": [
      "[3, 5, 'Grapes', 8.9, 'Pear', ('Pictures', 5.2), [8, 9], 'new element', 2.2, [4.5, 'tasht si list bashke'], [4.5, 'tasht si list bashke'], [4.5, 'tasht si list bashke']]\n"
     ]
    }
   ],
   "source": [
    "Lista2.append([4.5,\"tasht si list bashke\"])\n",
    "print(Lista2)"
   ]
  },
  {
   "cell_type": "code",
   "execution_count": 35,
   "id": "6e421d05",
   "metadata": {},
   "outputs": [
    {
     "name": "stdout",
     "output_type": "stream",
     "text": [
      "[3, 8, 'Grapes', 8.9, 'Pear', ('Pictures', 5.2), [8, 9], 'new element', 2.2, [4.5, 'tasht si list bashke'], [4.5, 'tasht si list bashke'], [4.5, 'tasht si list bashke']]\n"
     ]
    }
   ],
   "source": [
    "Lista2[1]= 8 #ndrron elementin ne indeksin 1\n",
    "print(Lista2)"
   ]
  },
  {
   "cell_type": "code",
   "execution_count": 37,
   "id": "b77f0f63",
   "metadata": {},
   "outputs": [
    {
     "name": "stdout",
     "output_type": "stream",
     "text": [
      "[3, 8.9, 'Pear', ('Pictures', 5.2), [8, 9], 'new element', 2.2, [4.5, 'tasht si list bashke'], [4.5, 'tasht si list bashke'], [4.5, 'tasht si list bashke']]\n"
     ]
    }
   ],
   "source": [
    "del Lista2[1] #e fshin numrin 8, pasi qe eshte ne indeksin 1\n",
    "print(Lista2)"
   ]
  },
  {
   "cell_type": "code",
   "execution_count": 41,
   "id": "fb9a79ca",
   "metadata": {},
   "outputs": [
    {
     "data": {
      "text/plain": [
       "['Kjo', 'fjali', 'ndahet', 'ne', 'nje', 'list', 'ne', 'kete', 'menyre']"
      ]
     },
     "execution_count": 41,
     "metadata": {},
     "output_type": "execute_result"
    }
   ],
   "source": [
    "\"Kjo fjali ndahet ne nje list ne kete menyre\".split()"
   ]
  },
  {
   "cell_type": "code",
   "execution_count": 45,
   "id": "096aad3a",
   "metadata": {},
   "outputs": [
    {
     "name": "stdout",
     "output_type": "stream",
     "text": [
      "[3, 8.9, 'Pear', ('Pictures', 5.2), [8, 9], 'new element', 2.2, [4.5, 'tasht si list bashke'], [4.5, 'tasht si list bashke'], [4.5, 'tasht si list bashke']]\n"
     ]
    }
   ],
   "source": [
    "Lista3 = Lista2 \n",
    "print(Lista3)"
   ]
  },
  {
   "cell_type": "code",
   "execution_count": 47,
   "id": "bc0efa41",
   "metadata": {},
   "outputs": [
    {
     "name": "stdout",
     "output_type": "stream",
     "text": [
      "[2, 8.9, 'Pear', ('Pictures', 5.2), [8, 9], 'new element', 2.2, [4.5, 'tasht si list bashke'], [4.5, 'tasht si list bashke'], [4.5, 'tasht si list bashke']]\n"
     ]
    }
   ],
   "source": [
    "Lista3[0]=2 #Nese ndrrojme dicka ne listen 3 ndrrohet edhe ne listen 2 sepse kjo eshte kopje\n",
    "print(Lista2)"
   ]
  },
  {
   "cell_type": "code",
   "execution_count": 49,
   "id": "33adf56a",
   "metadata": {},
   "outputs": [
    {
     "name": "stdout",
     "output_type": "stream",
     "text": [
      "[2, 8.9, 'Pear', ('Pictures', 5.2), [8, 9], 'new element', 2.2, [4.5, 'tasht si list bashke'], [4.5, 'tasht si list bashke'], [4.5, 'tasht si list bashke']]\n"
     ]
    }
   ],
   "source": [
    "Lista3= Lista2[:] #Ndersa kjo eshte lista e klonuar, qe do te thote edhe nese ndrrojm dicka ne listen 2 nuk paraqitet te lista 3 dhe e kunderta\n",
    "print(Lista3)"
   ]
  },
  {
   "cell_type": "code",
   "execution_count": 50,
   "id": "5b23a108",
   "metadata": {},
   "outputs": [
    {
     "name": "stdout",
     "output_type": "stream",
     "text": [
      "[7, 8.9, 'Pear', ('Pictures', 5.2), [8, 9], 'new element', 2.2, [4.5, 'tasht si list bashke'], [4.5, 'tasht si list bashke'], [4.5, 'tasht si list bashke']]\n",
      "[2, 8.9, 'Pear', ('Pictures', 5.2), [8, 9], 'new element', 2.2, [4.5, 'tasht si list bashke'], [4.5, 'tasht si list bashke'], [4.5, 'tasht si list bashke']]\n"
     ]
    }
   ],
   "source": [
    "Lista2[0]= 7 #e shohim dallimin te elementi i pare.\n",
    "print(Lista2)\n",
    "print(Lista3)"
   ]
  }
 ],
 "metadata": {
  "kernelspec": {
   "display_name": "Python 3 (ipykernel)",
   "language": "python",
   "name": "python3"
  },
  "language_info": {
   "codemirror_mode": {
    "name": "ipython",
    "version": 3
   },
   "file_extension": ".py",
   "mimetype": "text/x-python",
   "name": "python",
   "nbconvert_exporter": "python",
   "pygments_lexer": "ipython3",
   "version": "3.9.13"
  }
 },
 "nbformat": 4,
 "nbformat_minor": 5
}
